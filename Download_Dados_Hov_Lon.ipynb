{
 "cells": [
  {
   "cell_type": "code",
   "execution_count": 5,
   "id": "27dfe651-ef14-4cc6-8954-e63337618722",
   "metadata": {
    "tags": []
   },
   "outputs": [
    {
     "name": "stdout",
     "output_type": "stream",
     "text": [
      "\u001b[33mWARNING: The directory '/home/jovyan/.cache/pip' or its parent directory is not owned or is not writable by the current user. The cache has been disabled. Check the permissions and owner of that directory. If executing pip with sudo, you should use sudo's -H flag.\u001b[0m\u001b[33m\n",
      "\u001b[0mRequirement already satisfied: geopandas in /srv/conda/envs/notebook/lib/python3.10/site-packages (0.12.2)\n",
      "Collecting regionmask\n",
      "  Downloading regionmask-0.11.0-py3-none-any.whl (71 kB)\n",
      "\u001b[2K     \u001b[90m━━━━━━━━━━━━━━━━━━━━━━━━━━━━━━━━━━━━━━━\u001b[0m \u001b[32m71.4/71.4 kB\u001b[0m \u001b[31m915.1 kB/s\u001b[0m eta \u001b[36m0:00:00\u001b[0m \u001b[36m0:00:01\u001b[0m\n",
      "\u001b[?25hCollecting openpyxl\n",
      "  Downloading openpyxl-3.1.2-py2.py3-none-any.whl (249 kB)\n",
      "\u001b[2K     \u001b[90m━━━━━━━━━━━━━━━━━━━━━━━━━━━━━━━━━━━━━━━\u001b[0m \u001b[32m250.0/250.0 kB\u001b[0m \u001b[31m1.5 MB/s\u001b[0m eta \u001b[36m0:00:00\u001b[0ma \u001b[36m0:00:01\u001b[0m\n",
      "\u001b[?25hRequirement already satisfied: fiona>=1.8 in /srv/conda/envs/notebook/lib/python3.10/site-packages (from geopandas) (1.9.1)\n",
      "Requirement already satisfied: pandas>=1.0.0 in /srv/conda/envs/notebook/lib/python3.10/site-packages (from geopandas) (1.5.3)\n",
      "Requirement already satisfied: shapely>=1.7 in /srv/conda/envs/notebook/lib/python3.10/site-packages (from geopandas) (1.8.5.post1)\n",
      "Requirement already satisfied: packaging in /srv/conda/envs/notebook/lib/python3.10/site-packages (from geopandas) (23.0)\n",
      "Requirement already satisfied: pyproj>=2.6.1.post1 in /srv/conda/envs/notebook/lib/python3.10/site-packages (from geopandas) (3.4.1)\n",
      "Requirement already satisfied: rasterio>=1.2 in /srv/conda/envs/notebook/lib/python3.10/site-packages (from regionmask) (1.3.6)\n",
      "Requirement already satisfied: pooch>=1.4 in /srv/conda/envs/notebook/lib/python3.10/site-packages (from regionmask) (1.6.0)\n",
      "Requirement already satisfied: numpy>=1.21 in /srv/conda/envs/notebook/lib/python3.10/site-packages (from regionmask) (1.23.5)\n",
      "Requirement already satisfied: xarray>=0.20 in /srv/conda/envs/notebook/lib/python3.10/site-packages (from regionmask) (2023.2.0)\n",
      "Collecting et-xmlfile\n",
      "  Downloading et_xmlfile-1.1.0-py3-none-any.whl (4.7 kB)\n",
      "Requirement already satisfied: certifi in /srv/conda/envs/notebook/lib/python3.10/site-packages (from fiona>=1.8->geopandas) (2022.12.7)\n",
      "Requirement already satisfied: cligj>=0.5 in /srv/conda/envs/notebook/lib/python3.10/site-packages (from fiona>=1.8->geopandas) (0.7.2)\n",
      "Requirement already satisfied: attrs>=19.2.0 in /srv/conda/envs/notebook/lib/python3.10/site-packages (from fiona>=1.8->geopandas) (22.2.0)\n",
      "Requirement already satisfied: click~=8.0 in /srv/conda/envs/notebook/lib/python3.10/site-packages (from fiona>=1.8->geopandas) (8.1.3)\n",
      "Requirement already satisfied: munch>=2.3.2 in /srv/conda/envs/notebook/lib/python3.10/site-packages (from fiona>=1.8->geopandas) (2.5.0)\n",
      "Requirement already satisfied: setuptools in /srv/conda/envs/notebook/lib/python3.10/site-packages (from fiona>=1.8->geopandas) (67.4.0)\n",
      "Requirement already satisfied: click-plugins>=1.0 in /srv/conda/envs/notebook/lib/python3.10/site-packages (from fiona>=1.8->geopandas) (1.1.1)\n",
      "Requirement already satisfied: python-dateutil>=2.8.1 in /srv/conda/envs/notebook/lib/python3.10/site-packages (from pandas>=1.0.0->geopandas) (2.8.2)\n",
      "Requirement already satisfied: pytz>=2020.1 in /srv/conda/envs/notebook/lib/python3.10/site-packages (from pandas>=1.0.0->geopandas) (2022.7.1)\n",
      "Requirement already satisfied: appdirs>=1.3.0 in /srv/conda/envs/notebook/lib/python3.10/site-packages (from pooch>=1.4->regionmask) (1.4.4)\n",
      "Requirement already satisfied: requests>=2.19.0 in /srv/conda/envs/notebook/lib/python3.10/site-packages (from pooch>=1.4->regionmask) (2.28.2)\n",
      "Requirement already satisfied: snuggs>=1.4.1 in /srv/conda/envs/notebook/lib/python3.10/site-packages (from rasterio>=1.2->regionmask) (1.4.7)\n",
      "Requirement already satisfied: affine in /srv/conda/envs/notebook/lib/python3.10/site-packages (from rasterio>=1.2->regionmask) (2.4.0)\n",
      "Requirement already satisfied: six in /srv/conda/envs/notebook/lib/python3.10/site-packages (from munch>=2.3.2->fiona>=1.8->geopandas) (1.16.0)\n",
      "Requirement already satisfied: charset-normalizer<4,>=2 in /srv/conda/envs/notebook/lib/python3.10/site-packages (from requests>=2.19.0->pooch>=1.4->regionmask) (2.1.1)\n",
      "Requirement already satisfied: urllib3<1.27,>=1.21.1 in /srv/conda/envs/notebook/lib/python3.10/site-packages (from requests>=2.19.0->pooch>=1.4->regionmask) (1.26.14)\n",
      "Requirement already satisfied: idna<4,>=2.5 in /srv/conda/envs/notebook/lib/python3.10/site-packages (from requests>=2.19.0->pooch>=1.4->regionmask) (3.4)\n",
      "Requirement already satisfied: pyparsing>=2.1.6 in /srv/conda/envs/notebook/lib/python3.10/site-packages (from snuggs>=1.4.1->rasterio>=1.2->regionmask) (3.0.9)\n",
      "Installing collected packages: et-xmlfile, openpyxl, regionmask\n",
      "Successfully installed et-xmlfile-1.1.0 openpyxl-3.1.2 regionmask-0.11.0\n",
      "\u001b[33mWARNING: Running pip as the 'root' user can result in broken permissions and conflicting behaviour with the system package manager. It is recommended to use a virtual environment instead: https://pip.pypa.io/warnings/venv\u001b[0m\u001b[33m\n",
      "\u001b[0m"
     ]
    }
   ],
   "source": [
    "!pip install geopandas regionmask openpyxl"
   ]
  },
  {
   "cell_type": "code",
   "execution_count": 6,
   "id": "6a3023fd",
   "metadata": {
    "tags": []
   },
   "outputs": [],
   "source": [
    "#Importação das bibliotecas\n",
    "import gcsfs \n",
    "import intake\n",
    "import xarray as xr\n",
    "import pandas as pd\n",
    "import cftime\n",
    "import geopandas as gpd\n",
    "import regionmask\n",
    "import re\n",
    "import numpy as np\n",
    "import fiona\n",
    "import xesmf as xe\n",
    "import gsw\n",
    "fiona.drvsupport.supported_drivers['KML'] = 'rw'"
   ]
  },
  {
   "cell_type": "code",
   "execution_count": 2,
   "id": "4293a032",
   "metadata": {
    "tags": []
   },
   "outputs": [],
   "source": [
    "#Níveis do WOA para comparação: \n",
    "new_levels = [0.00e+00, 5.00e+00, 1.00e+01, 1.50e+01, 2.00e+01, 2.50e+01,\n",
    "       3.00e+01, 3.50e+01, 4.00e+01, 4.50e+01, 5.00e+01, 5.50e+01,\n",
    "       6.00e+01, 6.50e+01, 7.00e+01, 7.50e+01, 8.00e+01, 8.50e+01,\n",
    "       9.00e+01, 9.50e+01, 1.00e+02, 1.25e+02, 1.50e+02, 1.75e+02,\n",
    "       2.00e+02, 2.25e+02, 2.50e+02, 2.75e+02, 3.00e+02, 3.25e+02,\n",
    "       3.50e+02, 3.75e+02, 4.00e+02, 4.25e+02, 4.50e+02, 4.75e+02,\n",
    "       5.00e+02, 5.50e+02, 6.00e+02, 6.50e+02, 7.00e+02, 7.50e+02,\n",
    "       8.00e+02, 8.50e+02, 9.00e+02, 9.50e+02, 1.00e+03, 1.05e+03,\n",
    "       1.10e+03, 1.15e+03, 1.20e+03, 1.25e+03, 1.30e+03, 1.35e+03,\n",
    "       1.40e+03, 1.45e+03, 1.50e+03, 1.55e+03, 1.60e+03, 1.65e+03,\n",
    "       1.70e+03, 1.75e+03, 1.80e+03, 1.85e+03, 1.90e+03, 1.95e+03,\n",
    "       2.00e+03, 2.10e+03, 2.20e+03, 2.30e+03, 2.40e+03, 2.50e+03,\n",
    "       2.60e+03, 2.70e+03, 2.80e+03, 2.90e+03, 3.00e+03, 3.10e+03,\n",
    "       3.20e+03, 3.30e+03, 3.40e+03, 3.50e+03, 3.60e+03, 3.70e+03,\n",
    "       3.80e+03, 3.90e+03, 4.00e+03, 4.10e+03, 4.20e+03, 4.30e+03,\n",
    "       4.40e+03, 4.50e+03, 4.60e+03, 4.70e+03, 4.80e+03, 4.90e+03,\n",
    "       5.00e+03, 5.10e+03, 5.20e+03, 5.30e+03, 5.40e+03, 5.50e+03]\n"
   ]
  },
  {
   "cell_type": "code",
   "execution_count": 15,
   "id": "9c396be1",
   "metadata": {
    "tags": []
   },
   "outputs": [],
   "source": [
    "def rename_coords(ds):\n",
    "    \"\"\"Renomeia as variáveis de latitude, longitude e profundidade para 'lat', 'lon' e 'lev',\n",
    "    respectivamente, usando os nomes de variáveis de coordenadas encontrados automaticamente no arquivo.\n",
    "    \"\"\"\n",
    "    # Cria um dicionário com os possíveis nomes antigos das variáveis de latitude, longitude e profundidade\n",
    "    # e seus respectivos novos nomes\n",
    "    coord_names = {\n",
    "        'latitude': 'lat', 'nav_lat': 'lat', 'lat': 'lat',\n",
    "        'longitude': 'lon', 'nav_lon': 'lon', 'lon': 'lon',\n",
    "        'olevel': 'lev',\n",
    "        'olevel_bounds': 'lev_bnds'\n",
    "    }\n",
    "    # Itera sobre a lista de nomes de coordenadas presentes no arquivo\n",
    "    for coord_name in ds.coords.keys():\n",
    "        # Verifica se o nome da coordenada corresponde a um dos possíveis nomes antigos das variáveis de coordenadas\n",
    "        if coord_name in coord_names:\n",
    "            # Renomeia a variável de coordenada usando o método rename()\n",
    "            ds = ds.rename({coord_name: coord_names[coord_name]})\n",
    "    # Retorna o Dataset com as variáveis de coordenadas renomeadas\n",
    "    return ds.copy()\n",
    "\n",
    "#Função para acertar a variável tempo! Pois alguns formatos disponiveis no CMIP6 para a variável time dificultam sua manipulação. \n",
    "def to_360day_monthly(da):\n",
    "    ''' Conversão da dimensão de tempo de modelos climáticos.\n",
    "        Função criada por Claire Carouge no CLEX CMS Blog'''\n",
    "    val = da.copy()\n",
    "    time1 = da.time.copy()\n",
    "    for itime in range(val.sizes['time']):\n",
    "        bb = val.time.values[itime].timetuple()\n",
    "        time1.values[itime] = cftime.Datetime360Day(bb[0],bb[1],16)\n",
    "    val = val.assign_coords({'time':time1})\n",
    "    return val\n",
    "\n",
    "#Função que converte a profundidade de centímetros para metro.\n",
    "def depth_m(ds):\n",
    "    if \"lev\" in ds:\n",
    "        if \"units\" in ds[\"lev\"].attrs:\n",
    "            units = ds[\"lev\"].units.lower()\n",
    "            if units == \"cm\" or units == \"centimeters\":\n",
    "                ds[\"lev\"] = ds[\"lev\"] / 100\n",
    "                ds[\"lev\"].attrs[\"units\"] = \"m\"\n",
    "    return ds"
   ]
  },
  {
   "cell_type": "code",
   "execution_count": 16,
   "id": "a72e3e3c",
   "metadata": {
    "tags": []
   },
   "outputs": [],
   "source": [
    "#Acessa o conjunto de metadados do CMIP6 hospedados no Google Cloud.\n",
    "cmip6 = intake.open_esm_datastore(\"https://storage.googleapis.com/cmip6/pangeo-cmip6.json\")"
   ]
  },
  {
   "cell_type": "code",
   "execution_count": 17,
   "id": "b3f82d1f",
   "metadata": {},
   "outputs": [],
   "source": [
    "#Lendo a minha Tabela de Modelo.\n",
    "#Verifique o caminho, no meu jupyter lab está tudo na mesma pasta.\n",
    "df = pd.read_excel(\"Tabela_Modelos/Tabela_Modelos.xlsx\", sheet_name=1)\n",
    "df = df.rename(columns = lambda x : x.strip())"
   ]
  },
  {
   "cell_type": "code",
   "execution_count": 18,
   "id": "23acf55d",
   "metadata": {
    "tags": []
   },
   "outputs": [],
   "source": [
    "gdf = gpd.read_file('Area_Projeto/Regiao_Juntas/Regiao_Juntas.shp')"
   ]
  },
  {
   "cell_type": "code",
   "execution_count": 19,
   "id": "f1074b7d",
   "metadata": {
    "tags": []
   },
   "outputs": [],
   "source": [
    "#Realiza minha pesquisa de acordo com a minha Tabela de Modelos\n",
    "pesquisas = []\n",
    "for index, row in df.iterrows():\n",
    "    pesquisa = {'source_id': row['source_id'],\n",
    "                'table_id': row['table_id'],\n",
    "                'variable_id': row['variable_id'].split(', '),\n",
    "                'experiment_id': row['experiment_id'],\n",
    "                'member_id': row['member_id']}\n",
    "    pesquisas.append(pesquisa)"
   ]
  },
  {
   "cell_type": "code",
   "execution_count": null,
   "id": "71ced63e",
   "metadata": {
    "tags": []
   },
   "outputs": [
    {
     "name": "stdout",
     "output_type": "stream",
     "text": [
      "\n",
      "--> The keys in the returned dictionary of datasets are constructed as follows:\n",
      "\t'activity_id.institution_id.source_id.experiment_id.table_id.grid_label'\n"
     ]
    },
    {
     "name": "stderr",
     "output_type": "stream",
     "text": [
      "/srv/conda/envs/notebook/lib/python3.10/site-packages/intake_esm/_search.py:80: FutureWarning: In a future version of pandas, a length 1 tuple will be returned when iterating over a groupby with a grouper equal to a list of length 1. Don't supply a list with a single grouper to avoid this warning.\n",
      "  for _, group in grouped:\n"
     ]
    },
    {
     "data": {
      "text/html": [
       "\n",
       "<style>\n",
       "    /* Turns off some styling */\n",
       "    progress {\n",
       "        /* gets rid of default border in Firefox and Opera. */\n",
       "        border: none;\n",
       "        /* Needs to be in here for Safari polyfill so background images work as expected. */\n",
       "        background-size: auto;\n",
       "    }\n",
       "    progress:not([value]), progress:not([value])::-webkit-progress-bar {\n",
       "        background: repeating-linear-gradient(45deg, #7e7e7e, #7e7e7e 10px, #5c5c5c 10px, #5c5c5c 20px);\n",
       "    }\n",
       "    .progress-bar-interrupted, .progress-bar-interrupted::-webkit-progress-bar {\n",
       "        background: #F44336;\n",
       "    }\n",
       "</style>\n"
      ],
      "text/plain": [
       "<IPython.core.display.HTML object>"
      ]
     },
     "metadata": {},
     "output_type": "display_data"
    },
    {
     "data": {
      "text/html": [
       "\n",
       "    <div>\n",
       "      <progress value='2' class='' max='2' style='width:300px; height:20px; vertical-align: middle;'></progress>\n",
       "      100.00% [2/2 00:01&lt;00:00]\n",
       "    </div>\n",
       "    "
      ],
      "text/plain": [
       "<IPython.core.display.HTML object>"
      ]
     },
     "metadata": {},
     "output_type": "display_data"
    },
    {
     "name": "stderr",
     "output_type": "stream",
     "text": [
      "/tmp/ipykernel_1091/3537273425.py:18: UserWarning: rename 'lat' to 'lat' does not create an index anymore. Try using swap_dims instead or use set_index after rename to create an indexed coordinate.\n",
      "  ds = ds.rename({coord_name: coord_names[coord_name]})\n",
      "/tmp/ipykernel_1091/3537273425.py:18: UserWarning: rename 'lon' to 'lon' does not create an index anymore. Try using swap_dims instead or use set_index after rename to create an indexed coordinate.\n",
      "  ds = ds.rename({coord_name: coord_names[coord_name]})\n"
     ]
    }
   ],
   "source": [
    "import pandas as pd\n",
    "\n",
    "for pesquisa in pesquisas:\n",
    "    cat = cmip6.search(require_all_on='source_id', **pesquisa)\n",
    "    cat = cat.to_dataset_dict(aggregate=True,\n",
    "                              storage_options={'token': 'anon'},\n",
    "                              xarray_open_kwargs={'consolidated': True,\n",
    "                                                 'decode_times': True,\n",
    "                                                 'use_cftime': True})\n",
    "    \n",
    "    # Variável para armazenar o dataset\n",
    "    ds = None\n",
    "\n",
    "    # Iterar sobre as chaves da lista\n",
    "    for key in list(cat.keys()):\n",
    "        # Verificar se a chave termina com \"gr\"\n",
    "        if key.endswith(\"gr\"):\n",
    "            ds = cat[key]\n",
    "            break  # Se encontrou \"gr\", não é necessário continuar procurando\n",
    "\n",
    "    # Se \"gr\" não foi encontrado, ds ficará com o último valor atribuído no loop\n",
    "    # Se nenhum valor termina com \"gr\", ds ficará com o último valor terminado com \"gn\"\n",
    "    if ds is None:\n",
    "        for key in list(cat.keys()):\n",
    "            if key.endswith(\"gn\"):\n",
    "                ds = cat[key]\n",
    "                break  # Se encontrou \"gn\", não é necessário continuar procurando\n",
    "\n",
    "    #Converte o time para o formato correto.\n",
    "    ds = ds[[\"thetao\", \"so\"]].squeeze()\n",
    "    \n",
    "    if \"gn\" in ds.grid_label:\n",
    "        ds_out = xr.Dataset(\n",
    "            {\n",
    "                \"lat\" : ([\"lat\"], np.arange(-90, 90, 1.0)),\n",
    "                \"lon\" : ([\"lon\"], np.arange(-180, 180, 1.0)),\n",
    "            }\n",
    "        )\n",
    "\n",
    "        regridder = xe.Regridder(ds, ds_out, \"bilinear\", ignore_degenerate=True)\n",
    "        ds_out = regridder(ds, keep_attrs = True)\n",
    "    \n",
    "    else:\n",
    "        ds_out = ds\n",
    "    \n",
    "    #Renomeia olevel para level\n",
    "    ds_out = rename_coords(ds_out)\n",
    "    \n",
    "    #Pressão a partir da profundidade\n",
    "    ds_out[\"press\"] = gsw.p_from_z(ds_out.lev, ds_out.lat)\n",
    "    \n",
    "    #Transforma salinidade preformada em salinidade absoluta\n",
    "    ds_out[\"so\"] = gsw.SA_from_Sstar(ds_out.so, ds_out.press ,ds_out.lat, ds_out.lon)\n",
    "    \n",
    "    # Interpolação vertical usando interpolação linear\n",
    "    ds_interp = ds_out.interp(lev=new_levels, method='linear')\n",
    "    \n",
    "    #Converte o GeoDataFrame para um objeto region mask\n",
    "    mask = regionmask.mask_geopandas(gdf, ds_interp['lon'], ds_interp['lat'])\n",
    "\n",
    "    #Aplica a máscara ao dataset\n",
    "    ds_masked = ds_interp.where(mask==mask, drop=True)\n",
    "    \n",
    "    ds_lat = ds_masked.mean(dim=\"lon\")\n",
    "    \n",
    "    ds_lat.to_netcdf(\"{}.nc\".format(key))"
   ]
  },
  {
   "cell_type": "code",
   "execution_count": null,
   "id": "25e9ced3",
   "metadata": {},
   "outputs": [],
   "source": []
  }
 ],
 "metadata": {
  "kernelspec": {
   "display_name": "Python 3 (ipykernel)",
   "language": "python",
   "name": "python3"
  },
  "language_info": {
   "codemirror_mode": {
    "name": "ipython",
    "version": 3
   },
   "file_extension": ".py",
   "mimetype": "text/x-python",
   "name": "python",
   "nbconvert_exporter": "python",
   "pygments_lexer": "ipython3",
   "version": "3.9.18"
  }
 },
 "nbformat": 4,
 "nbformat_minor": 5
}
